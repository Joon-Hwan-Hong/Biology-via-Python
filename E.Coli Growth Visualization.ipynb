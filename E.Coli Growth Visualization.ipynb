{
 "cells": [
  {
   "cell_type": "code",
   "execution_count": 1,
   "metadata": {
    "collapsed": true,
    "pycharm": {
     "name": "#%%\n",
     "is_executing": false
    }
   },
   "outputs": [],
   "source": [
    "import numpy as np\n",
    "import pandas as pd\n",
    "import matplotlib.pyplot as plt\n",
    "\n",
    "%matplotlib inline  "
   ]
  },
  {
   "cell_type": "code",
   "execution_count": 2,
   "outputs": [],
   "source": [
    "data = np.loadtxt(\"Ecoli_growth_curve.csv\",skiprows = 2, delimiter = \",\")"
   ],
   "metadata": {
    "collapsed": false,
    "pycharm": {
     "name": "#%%\n",
     "is_executing": false
    }
   }
  },
  {
   "cell_type": "code",
   "execution_count": 3,
   "outputs": [
    {
     "data": {
      "text/plain": "array([[0.000e+00, 1.900e+01, 2.200e+01, 2.500e+01, 2.800e+01, 3.100e+01,\n        3.400e+01, 3.700e+01],\n       [0.000e+00, 2.090e-02, 2.090e-02, 1.760e-02, 2.060e-02, 1.940e-02,\n        2.090e-02, 1.940e-02],\n       [3.000e+01, 2.090e-02, 2.130e-02, 1.860e-02, 2.180e-02, 2.160e-02,\n        2.950e-02, 3.040e-02],\n       [6.000e+01, 2.100e-02, 2.210e-02, 2.160e-02, 2.560e-02, 2.460e-02,\n        3.880e-02, 4.430e-02],\n       [9.000e+01, 2.140e-02, 2.400e-02, 2.610e-02, 3.020e-02, 3.330e-02,\n        5.210e-02, 6.770e-02],\n       [1.200e+02, 2.200e-02, 2.690e-02, 3.110e-02, 3.880e-02, 4.460e-02,\n        8.020e-02, 9.620e-02],\n       [1.500e+02, 2.290e-02, 3.170e-02, 3.600e-02, 4.910e-02, 6.150e-02,\n        1.051e-01, 1.401e-01],\n       [1.800e+02, 2.480e-02, 3.620e-02, 4.280e-02, 6.070e-02, 7.970e-02,\n        1.407e-01, 1.993e-01],\n       [2.100e+02, 2.740e-02, 4.130e-02, 5.140e-02, 7.780e-02, 1.041e-01,\n        1.960e-01, 2.895e-01],\n       [2.400e+02, 3.010e-02, 4.710e-02, 5.990e-02, 9.470e-02, 1.428e-01,\n        2.723e-01, 3.761e-01],\n       [2.700e+02, 3.270e-02, 5.480e-02, 6.900e-02, 1.163e-01, 1.838e-01,\n        3.442e-01, 4.917e-01],\n       [3.000e+02, 3.580e-02, 6.170e-02, 8.210e-02, 1.425e-01, 2.248e-01,\n        4.301e-01, 6.285e-01],\n       [3.300e+02, 3.930e-02, 7.120e-02, 9.850e-02, 1.754e-01, 2.892e-01,\n        5.221e-01, 7.510e-01],\n       [3.600e+02, 4.220e-02, 7.910e-02, 1.089e-01, 2.227e-01, 3.685e-01,\n        6.102e-01, 8.594e-01]])"
     },
     "metadata": {},
     "output_type": "execute_result",
     "execution_count": 3
    }
   ],
   "source": [
    "# a 2D matrix of the input data\n",
    "data"
   ],
   "metadata": {
    "collapsed": false,
    "pycharm": {
     "name": "#%%\n",
     "is_executing": false
    }
   }
  },
  {
   "cell_type": "code",
   "execution_count": 4,
   "outputs": [
    {
     "data": {
      "text/plain": "        0        1        2        3        4        5        6        7\n0     0.0  19.0000  22.0000  25.0000  28.0000  31.0000  34.0000  37.0000\n1     0.0   0.0209   0.0209   0.0176   0.0206   0.0194   0.0209   0.0194\n2    30.0   0.0209   0.0213   0.0186   0.0218   0.0216   0.0295   0.0304\n3    60.0   0.0210   0.0221   0.0216   0.0256   0.0246   0.0388   0.0443\n4    90.0   0.0214   0.0240   0.0261   0.0302   0.0333   0.0521   0.0677\n5   120.0   0.0220   0.0269   0.0311   0.0388   0.0446   0.0802   0.0962\n6   150.0   0.0229   0.0317   0.0360   0.0491   0.0615   0.1051   0.1401\n7   180.0   0.0248   0.0362   0.0428   0.0607   0.0797   0.1407   0.1993\n8   210.0   0.0274   0.0413   0.0514   0.0778   0.1041   0.1960   0.2895\n9   240.0   0.0301   0.0471   0.0599   0.0947   0.1428   0.2723   0.3761\n10  270.0   0.0327   0.0548   0.0690   0.1163   0.1838   0.3442   0.4917\n11  300.0   0.0358   0.0617   0.0821   0.1425   0.2248   0.4301   0.6285\n12  330.0   0.0393   0.0712   0.0985   0.1754   0.2892   0.5221   0.7510\n13  360.0   0.0422   0.0791   0.1089   0.2227   0.3685   0.6102   0.8594",
      "text/html": "<div>\n<style scoped>\n    .dataframe tbody tr th:only-of-type {\n        vertical-align: middle;\n    }\n\n    .dataframe tbody tr th {\n        vertical-align: top;\n    }\n\n    .dataframe thead th {\n        text-align: right;\n    }\n</style>\n<table border=\"1\" class=\"dataframe\">\n  <thead>\n    <tr style=\"text-align: right;\">\n      <th></th>\n      <th>0</th>\n      <th>1</th>\n      <th>2</th>\n      <th>3</th>\n      <th>4</th>\n      <th>5</th>\n      <th>6</th>\n      <th>7</th>\n    </tr>\n  </thead>\n  <tbody>\n    <tr>\n      <th>0</th>\n      <td>0.0</td>\n      <td>19.0000</td>\n      <td>22.0000</td>\n      <td>25.0000</td>\n      <td>28.0000</td>\n      <td>31.0000</td>\n      <td>34.0000</td>\n      <td>37.0000</td>\n    </tr>\n    <tr>\n      <th>1</th>\n      <td>0.0</td>\n      <td>0.0209</td>\n      <td>0.0209</td>\n      <td>0.0176</td>\n      <td>0.0206</td>\n      <td>0.0194</td>\n      <td>0.0209</td>\n      <td>0.0194</td>\n    </tr>\n    <tr>\n      <th>2</th>\n      <td>30.0</td>\n      <td>0.0209</td>\n      <td>0.0213</td>\n      <td>0.0186</td>\n      <td>0.0218</td>\n      <td>0.0216</td>\n      <td>0.0295</td>\n      <td>0.0304</td>\n    </tr>\n    <tr>\n      <th>3</th>\n      <td>60.0</td>\n      <td>0.0210</td>\n      <td>0.0221</td>\n      <td>0.0216</td>\n      <td>0.0256</td>\n      <td>0.0246</td>\n      <td>0.0388</td>\n      <td>0.0443</td>\n    </tr>\n    <tr>\n      <th>4</th>\n      <td>90.0</td>\n      <td>0.0214</td>\n      <td>0.0240</td>\n      <td>0.0261</td>\n      <td>0.0302</td>\n      <td>0.0333</td>\n      <td>0.0521</td>\n      <td>0.0677</td>\n    </tr>\n    <tr>\n      <th>5</th>\n      <td>120.0</td>\n      <td>0.0220</td>\n      <td>0.0269</td>\n      <td>0.0311</td>\n      <td>0.0388</td>\n      <td>0.0446</td>\n      <td>0.0802</td>\n      <td>0.0962</td>\n    </tr>\n    <tr>\n      <th>6</th>\n      <td>150.0</td>\n      <td>0.0229</td>\n      <td>0.0317</td>\n      <td>0.0360</td>\n      <td>0.0491</td>\n      <td>0.0615</td>\n      <td>0.1051</td>\n      <td>0.1401</td>\n    </tr>\n    <tr>\n      <th>7</th>\n      <td>180.0</td>\n      <td>0.0248</td>\n      <td>0.0362</td>\n      <td>0.0428</td>\n      <td>0.0607</td>\n      <td>0.0797</td>\n      <td>0.1407</td>\n      <td>0.1993</td>\n    </tr>\n    <tr>\n      <th>8</th>\n      <td>210.0</td>\n      <td>0.0274</td>\n      <td>0.0413</td>\n      <td>0.0514</td>\n      <td>0.0778</td>\n      <td>0.1041</td>\n      <td>0.1960</td>\n      <td>0.2895</td>\n    </tr>\n    <tr>\n      <th>9</th>\n      <td>240.0</td>\n      <td>0.0301</td>\n      <td>0.0471</td>\n      <td>0.0599</td>\n      <td>0.0947</td>\n      <td>0.1428</td>\n      <td>0.2723</td>\n      <td>0.3761</td>\n    </tr>\n    <tr>\n      <th>10</th>\n      <td>270.0</td>\n      <td>0.0327</td>\n      <td>0.0548</td>\n      <td>0.0690</td>\n      <td>0.1163</td>\n      <td>0.1838</td>\n      <td>0.3442</td>\n      <td>0.4917</td>\n    </tr>\n    <tr>\n      <th>11</th>\n      <td>300.0</td>\n      <td>0.0358</td>\n      <td>0.0617</td>\n      <td>0.0821</td>\n      <td>0.1425</td>\n      <td>0.2248</td>\n      <td>0.4301</td>\n      <td>0.6285</td>\n    </tr>\n    <tr>\n      <th>12</th>\n      <td>330.0</td>\n      <td>0.0393</td>\n      <td>0.0712</td>\n      <td>0.0985</td>\n      <td>0.1754</td>\n      <td>0.2892</td>\n      <td>0.5221</td>\n      <td>0.7510</td>\n    </tr>\n    <tr>\n      <th>13</th>\n      <td>360.0</td>\n      <td>0.0422</td>\n      <td>0.0791</td>\n      <td>0.1089</td>\n      <td>0.2227</td>\n      <td>0.3685</td>\n      <td>0.6102</td>\n      <td>0.8594</td>\n    </tr>\n  </tbody>\n</table>\n</div>"
     },
     "metadata": {},
     "output_type": "execute_result",
     "execution_count": 4
    }
   ],
   "source": [
    "new_DF = pd.DataFrame(data)\n",
    "\n",
    "new_DF"
   ],
   "metadata": {
    "collapsed": false,
    "pycharm": {
     "name": "#%%\n",
     "is_executing": false
    }
   }
  },
  {
   "cell_type": "markdown",
   "source": [
    "Its a time series of *E.coli* growth at different temperatures (19,22,25, etc.).\n",
    "Plotting the time course for **Temperature = 19 C**. "
   ],
   "metadata": {
    "collapsed": false
   }
  },
  {
   "cell_type": "code",
   "execution_count": 5,
   "outputs": [
    {
     "name": "stdout",
     "text": [
      "[0.0209 0.0209 0.021  0.0214 0.022  0.0229 0.0248 0.0274 0.0301 0.0327\n 0.0358 0.0393 0.0422]\n[  0.  30.  60.  90. 120. 150. 180. 210. 240. 270. 300. 330. 360.]\n"
     ],
     "output_type": "stream"
    },
    {
     "data": {
      "text/plain": "<Figure size 432x288 with 1 Axes>",
      "image/png": "[encoded data removed]"
     },
     "metadata": {
      "needs_background": "light"
     },
     "output_type": "display_data"
    }
   ],
   "source": [
    "t_series_19c = data[:,1][1:]\n",
    "\n",
    "print(t_series_19c) #or print(t_series_19c) for 3.0+\n",
    "\n",
    "t_series_t = data[:,0][1:]\n",
    "\n",
    "print(t_series_t) #or print(t_series_t) for 3.0+\n",
    "\n",
    "plt.plot(t_series_t, t_series_19c, 'ro',label = \"19 C\")\n",
    "plt.xlabel(\"Time (s)\")\n",
    "plt.ylabel(\"OD\")\n",
    "plt.legend()\n",
    "plt.show()"
   ],
   "metadata": {
    "collapsed": false,
    "pycharm": {
     "name": "#%%\n",
     "is_executing": false
    }
   }
  },
  {
   "cell_type": "markdown",
   "source": [
    "Used array slicing. The first two arguments are the x and y data sets. The third argument is the colour and type of graph marker. The last is to label each plot on the graph.\n",
    "Time series for **37 C**"
   ],
   "metadata": {
    "collapsed": false
   }
  },
  {
   "cell_type": "code",
   "execution_count": 6,
   "outputs": [
    {
     "data": {
      "text/plain": "<Figure size 432x288 with 1 Axes>",
      "image/png": "[encoded data removed]"
     },
     "metadata": {
      "needs_background": "light"
     },
     "output_type": "display_data"
    }
   ],
   "source": [
    "t_series_37c = data[:,7][1:]\n",
    "\n",
    "plt.plot(t_series_t, t_series_19c, 'ro',label = \"19 C\")\n",
    "plt.plot(t_series_t, t_series_37c, 'bo',label = \"37 C\")\n",
    "plt.xlabel(\"Time (s)\")\n",
    "plt.ylabel(\"OD\")\n",
    "plt.legend()\n",
    "plt.show()\n",
    "\n",
    "# E.Coli grow better at 37 C than 19 C."
   ],
   "metadata": {
    "collapsed": false,
    "pycharm": {
     "name": "#%%\n",
     "is_executing": false
    }
   }
  }
 ],
 "metadata": {
  "language_info": {
   "codemirror_mode": {
    "name": "ipython",
    "version": 2
   },
   "file_extension": ".py",
   "mimetype": "text/x-python",
   "name": "python",
   "nbconvert_exporter": "python",
   "pygments_lexer": "ipython2",
   "version": "2.7.6"
  },
  "kernelspec": {
   "name": "python3",
   "language": "python",
   "display_name": "Python 3"
  },
  "pycharm": {
   "stem_cell": {
    "cell_type": "raw",
    "source": [],
    "metadata": {
     "collapsed": false
    }
   }
  }
 },
 "nbformat": 4,
 "nbformat_minor": 0
}